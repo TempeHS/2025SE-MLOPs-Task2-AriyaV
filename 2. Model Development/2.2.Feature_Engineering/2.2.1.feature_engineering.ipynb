{
 "cells": [
  {
   "cell_type": "markdown",
   "metadata": {},
   "source": [
    "## Feature Engineering \n",
    "Below is the data engineering processes applied to the wrangled data befote training the model to maximise the performance of the machine learning model. "
   ]
  },
  {
   "cell_type": "markdown",
   "metadata": {},
   "source": [
    "#### Feature Engineering Process (understanding)\n",
    "Involves: \n",
    "1. Deriving new variables from existing ones \n",
    "2. Combining feature/feature interactions \n",
    "3. Identifying most relevant features for model\n",
    "4. Transforming features \n",
    "- dividing data into categories \n",
    "- mathematical transformations \n",
    "5. Creating domain specific features that incorporate knowledge from specific domains to create features capturing important data characteristics  "
   ]
  },
  {
   "cell_type": "markdown",
   "metadata": {},
   "source": [
    "#### Required Dependencies "
   ]
  },
  {
   "cell_type": "code",
   "execution_count": 2,
   "metadata": {},
   "outputs": [],
   "source": [
    "# Import frameworks\n",
    "import pandas as pd"
   ]
  },
  {
   "cell_type": "markdown",
   "metadata": {},
   "source": [
    "#### Store data as local variable "
   ]
  },
  {
   "cell_type": "code",
   "execution_count": 3,
   "metadata": {},
   "outputs": [],
   "source": [
    "data_frame = pd.read_csv(\"2.2.1.wrangled_data.csv\")"
   ]
  },
  {
   "cell_type": "markdown",
   "metadata": {},
   "source": [
    "#### Deriving New Variables from Existing Ones \n"
   ]
  },
  {
   "cell_type": "markdown",
   "metadata": {},
   "source": [
    "\n",
    "##### Combining features/feature interactions\n",
    "Creating a new feature that represents the interaction between two or more features. \n",
    "The features that effect the chances of Cardiovascular disease include: high blood pressure, high cholesterol levels \n",
    "\n",
    "_Potential features_: \n",
    "- **blood pressure and cholesterol levels** (there is a direct correlation between blood pressure and cholesterol levels - high cholesterol levels may cause high blood pressure)\n",
    "- **Smoking and number of years smoking**\n",
    "- **Physical inactivity and age**\n",
    "- **BMI**"
   ]
  },
  {
   "cell_type": "markdown",
   "metadata": {},
   "source": [
    "#### Encoding values for gender\n",
    "Currently, the data for gender shows that the value 1 is for female and 2 is for male. Instead, the code below will change it so that -1 is male and 1 is female.  "
   ]
  },
  {
   "cell_type": "code",
   "execution_count": 13,
   "metadata": {},
   "outputs": [
    {
     "data": {
      "application/vnd.microsoft.datawrangler.viewer.v0+json": {
       "columns": [
        {
         "name": "index",
         "rawType": "int64",
         "type": "integer"
        },
        {
         "name": "id",
         "rawType": "int64",
         "type": "integer"
        },
        {
         "name": "age",
         "rawType": "int64",
         "type": "integer"
        },
        {
         "name": "gender",
         "rawType": "int64",
         "type": "integer"
        },
        {
         "name": "height",
         "rawType": "int64",
         "type": "integer"
        },
        {
         "name": "weight",
         "rawType": "float64",
         "type": "float"
        },
        {
         "name": "ap_hi",
         "rawType": "int64",
         "type": "integer"
        },
        {
         "name": "ap_lo",
         "rawType": "int64",
         "type": "integer"
        },
        {
         "name": "cholesterol",
         "rawType": "int64",
         "type": "integer"
        },
        {
         "name": "gluc",
         "rawType": "int64",
         "type": "integer"
        },
        {
         "name": "smoke",
         "rawType": "int64",
         "type": "integer"
        },
        {
         "name": "alco",
         "rawType": "int64",
         "type": "integer"
        },
        {
         "name": "active",
         "rawType": "int64",
         "type": "integer"
        },
        {
         "name": "cardio",
         "rawType": "int64",
         "type": "integer"
        }
       ],
       "conversionMethod": "pd.DataFrame",
       "ref": "90547912-8f39-4f87-a003-5d6bf8194648",
       "rows": [
        [
         "0",
         "0",
         "18393",
         "-1",
         "168",
         "62.0",
         "110",
         "80",
         "1",
         "1",
         "0",
         "0",
         "1",
         "0"
        ],
        [
         "1",
         "1",
         "20228",
         "1",
         "156",
         "85.0",
         "140",
         "90",
         "3",
         "1",
         "0",
         "0",
         "1",
         "1"
        ],
        [
         "2",
         "2",
         "18857",
         "1",
         "165",
         "64.0",
         "130",
         "70",
         "3",
         "1",
         "0",
         "0",
         "0",
         "1"
        ],
        [
         "3",
         "3",
         "17623",
         "-1",
         "169",
         "82.0",
         "150",
         "100",
         "1",
         "1",
         "0",
         "0",
         "1",
         "1"
        ],
        [
         "4",
         "8",
         "21914",
         "1",
         "151",
         "67.0",
         "120",
         "80",
         "2",
         "2",
         "0",
         "0",
         "0",
         "0"
        ]
       ],
       "shape": {
        "columns": 13,
        "rows": 5
       }
      },
      "text/html": [
       "<div>\n",
       "<style scoped>\n",
       "    .dataframe tbody tr th:only-of-type {\n",
       "        vertical-align: middle;\n",
       "    }\n",
       "\n",
       "    .dataframe tbody tr th {\n",
       "        vertical-align: top;\n",
       "    }\n",
       "\n",
       "    .dataframe thead th {\n",
       "        text-align: right;\n",
       "    }\n",
       "</style>\n",
       "<table border=\"1\" class=\"dataframe\">\n",
       "  <thead>\n",
       "    <tr style=\"text-align: right;\">\n",
       "      <th></th>\n",
       "      <th>id</th>\n",
       "      <th>age</th>\n",
       "      <th>gender</th>\n",
       "      <th>height</th>\n",
       "      <th>weight</th>\n",
       "      <th>ap_hi</th>\n",
       "      <th>ap_lo</th>\n",
       "      <th>cholesterol</th>\n",
       "      <th>gluc</th>\n",
       "      <th>smoke</th>\n",
       "      <th>alco</th>\n",
       "      <th>active</th>\n",
       "      <th>cardio</th>\n",
       "    </tr>\n",
       "  </thead>\n",
       "  <tbody>\n",
       "    <tr>\n",
       "      <th>0</th>\n",
       "      <td>0</td>\n",
       "      <td>18393</td>\n",
       "      <td>-1</td>\n",
       "      <td>168</td>\n",
       "      <td>62.0</td>\n",
       "      <td>110</td>\n",
       "      <td>80</td>\n",
       "      <td>1</td>\n",
       "      <td>1</td>\n",
       "      <td>0</td>\n",
       "      <td>0</td>\n",
       "      <td>1</td>\n",
       "      <td>0</td>\n",
       "    </tr>\n",
       "    <tr>\n",
       "      <th>1</th>\n",
       "      <td>1</td>\n",
       "      <td>20228</td>\n",
       "      <td>1</td>\n",
       "      <td>156</td>\n",
       "      <td>85.0</td>\n",
       "      <td>140</td>\n",
       "      <td>90</td>\n",
       "      <td>3</td>\n",
       "      <td>1</td>\n",
       "      <td>0</td>\n",
       "      <td>0</td>\n",
       "      <td>1</td>\n",
       "      <td>1</td>\n",
       "    </tr>\n",
       "    <tr>\n",
       "      <th>2</th>\n",
       "      <td>2</td>\n",
       "      <td>18857</td>\n",
       "      <td>1</td>\n",
       "      <td>165</td>\n",
       "      <td>64.0</td>\n",
       "      <td>130</td>\n",
       "      <td>70</td>\n",
       "      <td>3</td>\n",
       "      <td>1</td>\n",
       "      <td>0</td>\n",
       "      <td>0</td>\n",
       "      <td>0</td>\n",
       "      <td>1</td>\n",
       "    </tr>\n",
       "    <tr>\n",
       "      <th>3</th>\n",
       "      <td>3</td>\n",
       "      <td>17623</td>\n",
       "      <td>-1</td>\n",
       "      <td>169</td>\n",
       "      <td>82.0</td>\n",
       "      <td>150</td>\n",
       "      <td>100</td>\n",
       "      <td>1</td>\n",
       "      <td>1</td>\n",
       "      <td>0</td>\n",
       "      <td>0</td>\n",
       "      <td>1</td>\n",
       "      <td>1</td>\n",
       "    </tr>\n",
       "    <tr>\n",
       "      <th>4</th>\n",
       "      <td>8</td>\n",
       "      <td>21914</td>\n",
       "      <td>1</td>\n",
       "      <td>151</td>\n",
       "      <td>67.0</td>\n",
       "      <td>120</td>\n",
       "      <td>80</td>\n",
       "      <td>2</td>\n",
       "      <td>2</td>\n",
       "      <td>0</td>\n",
       "      <td>0</td>\n",
       "      <td>0</td>\n",
       "      <td>0</td>\n",
       "    </tr>\n",
       "  </tbody>\n",
       "</table>\n",
       "</div>"
      ],
      "text/plain": [
       "   id    age  gender  height  weight  ap_hi  ap_lo  cholesterol  gluc  smoke  \\\n",
       "0   0  18393      -1     168    62.0    110     80            1     1      0   \n",
       "1   1  20228       1     156    85.0    140     90            3     1      0   \n",
       "2   2  18857       1     165    64.0    130     70            3     1      0   \n",
       "3   3  17623      -1     169    82.0    150    100            1     1      0   \n",
       "4   8  21914       1     151    67.0    120     80            2     2      0   \n",
       "\n",
       "   alco  active  cardio  \n",
       "0     0       1       0  \n",
       "1     0       1       1  \n",
       "2     0       0       1  \n",
       "3     0       1       1  \n",
       "4     0       0       0  "
      ]
     },
     "execution_count": 13,
     "metadata": {},
     "output_type": "execute_result"
    }
   ],
   "source": [
    "# Change the value for males from 2 to -1\n",
    "data_frame['gender'] = data_frame['gender'].replace(2, -1)\n",
    "\n",
    "# Save the updated data back to the CSV file\n",
    "data_frame.to_csv('2.2.1.wrangled_data.csv', index=False)\n",
    "\n",
    "# Display the first few rows to verify the changes\n",
    "data_frame.head()"
   ]
  },
  {
   "cell_type": "markdown",
   "metadata": {},
   "source": [
    "#### Calculating Age\n",
    "Currently the format of age in the data set is the individual's age in days rather than years. The code below will convert the age into number of years. "
   ]
  },
  {
   "cell_type": "code",
   "execution_count": 14,
   "metadata": {},
   "outputs": [
    {
     "name": "stdout",
     "output_type": "stream",
     "text": [
      "   id        age  gender  height  weight  ap_hi  ap_lo  cholesterol  gluc  \\\n",
      "0   0  50.357290      -1     168    62.0    110     80            1     1   \n",
      "1   1  55.381246       1     156    85.0    140     90            3     1   \n",
      "2   2  51.627652       1     165    64.0    130     70            3     1   \n",
      "3   3  48.249144      -1     169    82.0    150    100            1     1   \n",
      "4   8  59.997262       1     151    67.0    120     80            2     2   \n",
      "\n",
      "   smoke  alco  active  cardio  \n",
      "0      0     0       1       0  \n",
      "1      0     0       1       1  \n",
      "2      0     0       0       1  \n",
      "3      0     0       1       1  \n",
      "4      0     0       0       0  \n"
     ]
    }
   ],
   "source": [
    "# Convert age from days to years\n",
    "data_frame['age'] = data_frame['age'] / 365.25\n",
    "\n",
    "# Save the updated data back to the CSV file\n",
    "data_frame.to_csv('2.2.1.wrangled_data.csv', index=False)\n",
    "\n",
    "# Display the first few rows to verify the changes\n",
    "print(data_frame.head())"
   ]
  },
  {
   "cell_type": "markdown",
   "metadata": {},
   "source": [
    "#### Combining Features/Feature Interactions\n",
    "__Feature Engineering__: creating new features that represent the interaction between two or more features\n"
   ]
  },
  {
   "cell_type": "markdown",
   "metadata": {},
   "source": [
    "##### BMI \n",
    "The code below is used to calculate the BMI of each patient. BMI is the combination of two features which include height and weight. This feature is being engineered as it is a useful indicator alongside cholesterol levels, blood pressure and smoking status. "
   ]
  },
  {
   "cell_type": "code",
   "execution_count": 15,
   "metadata": {},
   "outputs": [],
   "source": [
    "# Creating a BMI column and calulating the BMI of each person\n",
    "data_frame['BMI'] = data_frame['weight'] / (data_frame['height'] / 100) ** 2"
   ]
  },
  {
   "cell_type": "markdown",
   "metadata": {},
   "source": [
    "#### Risk - BMI and Age\n",
    "Age and BMI are both risk multipliers. When both the age and BMI are high, there is an increased chance of cardiovascular disease. "
   ]
  },
  {
   "cell_type": "code",
   "execution_count": 16,
   "metadata": {},
   "outputs": [
    {
     "name": "stdout",
     "output_type": "stream",
     "text": [
      "         BMI         Risk  Risk%\n",
      "0  21.967120  1106.204631   0.35\n",
      "1  34.927679  1934.338382   0.61\n",
      "2  23.507805  1213.652800   0.38\n",
      "3  28.710479  1385.256063   0.44\n",
      "4  29.384676  1763.000116   0.56\n"
     ]
    }
   ],
   "source": [
    "# Create a 'Risk' column \n",
    "data_frame['Risk'] = data_frame['BMI']*data_frame['age']\n",
    "\n",
    "# Calculate the risk in a percentage\n",
    "data_frame['Risk%'] = (data_frame['Risk'] / data_frame['Risk'].max()).round(2)\n",
    "\n",
    "# Print results\n",
    "print(data_frame[['BMI', 'Risk', 'Risk%']].head())"
   ]
  },
  {
   "cell_type": "markdown",
   "metadata": {},
   "source": [
    "Scale risk% between 0.15 and 0.85"
   ]
  },
  {
   "cell_type": "code",
   "execution_count": 19,
   "metadata": {},
   "outputs": [
    {
     "name": "stdout",
     "output_type": "stream",
     "text": [
      "0    0.285714\n",
      "1    0.657143\n",
      "2    0.328571\n",
      "3    0.414286\n",
      "4    0.585714\n",
      "Name: Risk%, dtype: float64\n"
     ]
    }
   ],
   "source": [
    "min_val = 0.15\n",
    "max_val = 0.85\n",
    "\n",
    "data_frame['Risk%'] = (data_frame['Risk%'] - min_val) / (max_val - min_val)\n",
    "print(data_frame['Risk%'].head())"
   ]
  },
  {
   "cell_type": "markdown",
   "metadata": {},
   "source": [
    "Save the BMI, Risk and Risk% to the wrangled data csv"
   ]
  },
  {
   "cell_type": "code",
   "execution_count": 17,
   "metadata": {},
   "outputs": [],
   "source": [
    "# Save the updated data back to the CSV file\n",
    "data_frame.to_csv('2.2.1.wrangled_data.csv', index=False)"
   ]
  },
  {
   "cell_type": "markdown",
   "metadata": {},
   "source": [
    "#### Mean Arterial Pressure (Average Blood Pressure)\n",
    "Rather than using systolic and diastolic blood pressure as individual features, combining both features will allow for an overall blood flow pressure to be calculated. This is usually calculated using the formula: \n",
    "                                                "
   ]
  },
  {
   "cell_type": "markdown",
   "metadata": {},
   "source": [
    "__DP + 1/3(SP - DP)__\n",
    "\n",
    "where DP is Diastolic Blood Pressure and SP is Systolic Blood Pressure"
   ]
  },
  {
   "cell_type": "code",
   "execution_count": 4,
   "metadata": {},
   "outputs": [
    {
     "name": "stdout",
     "output_type": "stream",
     "text": [
      "0     90.000000\n",
      "1    106.666667\n",
      "2     90.000000\n",
      "3    116.666667\n",
      "4     93.333333\n",
      "Name: meanBP, dtype: float64\n"
     ]
    }
   ],
   "source": [
    "# Calculate the mean arterial pressure\n",
    "data_frame['meanBP'] = data_frame['ap_lo'] + 1/3 * (data_frame['ap_hi'] - data_frame['ap_lo'])\n",
    "\n",
    "#print results\n",
    "print(data_frame['meanBP'].head())"
   ]
  },
  {
   "cell_type": "markdown",
   "metadata": {},
   "source": [
    "Scale the new Blood Pressure Data by catergorising as below: "
   ]
  },
  {
   "cell_type": "markdown",
   "metadata": {},
   "source": [
    "|Low (0)| Normal (1) | High (2) | \n",
    "|-------|------------|----------|\n",
    "| <70   |   70-100   |  >100    |"
   ]
  },
  {
   "cell_type": "code",
   "execution_count": 5,
   "metadata": {},
   "outputs": [
    {
     "name": "stdout",
     "output_type": "stream",
     "text": [
      "       meanBP  meanBP_category\n",
      "0   90.000000                1\n",
      "1  106.666667                2\n",
      "2   90.000000                1\n",
      "3  116.666667                2\n",
      "4   93.333333                1\n"
     ]
    }
   ],
   "source": [
    "# Categorize meanBP into 0, 1, or 2 based on conditions in table above\n",
    "def categorize_meanBP(value):\n",
    "    if value < 70:\n",
    "        return 0\n",
    "    elif 70 <= value <= 100:\n",
    "        return 1\n",
    "    else:\n",
    "        return 2\n",
    "\n",
    "# Apply the function to create a new column 'meanBP_category'\n",
    "data_frame['meanBP_category'] = data_frame['meanBP'].apply(categorize_meanBP)\n",
    "\n",
    "# Print results to verify the changes\n",
    "print(data_frame[['meanBP', 'meanBP_category']].head())"
   ]
  },
  {
   "cell_type": "markdown",
   "metadata": {},
   "source": [
    "Save the new mean BP calculation"
   ]
  },
  {
   "cell_type": "code",
   "execution_count": 6,
   "metadata": {},
   "outputs": [],
   "source": [
    "# Save the updated data back to the CSV file\n",
    "data_frame.to_csv('2.2.1.wrangled_data.csv', index=False)"
   ]
  },
  {
   "cell_type": "markdown",
   "metadata": {},
   "source": [
    "##### Existing Features \n",
    "\n",
    "- Age and BMI risk multiplier \n",
    "- Physical Activity \n",
    "- Smoking status (0 (no)/1 (yes))\n",
    "- Mean Arterial Pressure \n",
    "- Gender\n",
    "\n",
    "##### Engineered Features\n",
    "\n",
    "- BMI\n",
    "- Age/BMI risk mulitplier (Risk%)\n",
    "- Mean Arterial Pressure "
   ]
  },
  {
   "cell_type": "markdown",
   "metadata": {},
   "source": [
    "##### Save the wrangled and engineered data to CSV"
   ]
  },
  {
   "cell_type": "code",
   "execution_count": 7,
   "metadata": {},
   "outputs": [],
   "source": [
    "data_frame.to_csv('../2.3.Model_Training/2.3.1.model_ready_data.csv', index=False)"
   ]
  }
 ],
 "metadata": {
  "kernelspec": {
   "display_name": "Python 3",
   "language": "python",
   "name": "python3"
  },
  "language_info": {
   "codemirror_mode": {
    "name": "ipython",
    "version": 3
   },
   "file_extension": ".py",
   "mimetype": "text/x-python",
   "name": "python",
   "nbconvert_exporter": "python",
   "pygments_lexer": "ipython3",
   "version": "3.12.1"
  }
 },
 "nbformat": 4,
 "nbformat_minor": 2
}
