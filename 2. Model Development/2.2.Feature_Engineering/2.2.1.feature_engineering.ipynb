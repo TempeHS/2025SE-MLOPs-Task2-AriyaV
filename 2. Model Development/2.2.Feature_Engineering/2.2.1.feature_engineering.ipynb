{
 "cells": [
  {
   "cell_type": "markdown",
   "metadata": {},
   "source": [
    "## Feature Engineering \n",
    "Below is the data engineering processes applied to the wrangled data befote training the model to maximise the performance of the machine learning model. "
   ]
  },
  {
   "cell_type": "markdown",
   "metadata": {},
   "source": [
    "#### Feature Engineering Process (understanding)\n",
    "Involves: \n",
    "1. Deriving new variables from existing ones \n",
    "2. Combining feature/feature interactions \n",
    "3. Identifying most relevant features for model\n",
    "4. Transforming features \n",
    "- dividing data into categories \n",
    "- mathematical transformations \n",
    "5. Creating domain specific features that incorporate knowledge from specific domains to create features capturing important data characteristics  "
   ]
  },
  {
   "cell_type": "markdown",
   "metadata": {},
   "source": [
    "#### Required Dependencies "
   ]
  },
  {
   "cell_type": "code",
   "execution_count": null,
   "metadata": {},
   "outputs": [],
   "source": [
    "# Import frameworks\n",
    "import pandas as pd"
   ]
  },
  {
   "cell_type": "markdown",
   "metadata": {},
   "source": [
    "#### Store data as local variable "
   ]
  },
  {
   "cell_type": "code",
   "execution_count": null,
   "metadata": {},
   "outputs": [],
   "source": [
    "data_frame = pd.read_csv(\"2.2.1.wrangled_data.csv\")"
   ]
  },
  {
   "cell_type": "markdown",
   "metadata": {},
   "source": [
    "#### Deriving New Variables from Existing Ones \n"
   ]
  },
  {
   "cell_type": "markdown",
   "metadata": {},
   "source": [
    "\n",
    "##### Combining features/feature interactions\n",
    "Creating a new feature that represents the interaction between two or more features. \n",
    "The features that effect the chances of Cardiovascular disease include: high blood pressure, high cholesterol levels \n",
    "\n",
    "_Potential features_: \n",
    "- **blood pressure and cholesterol levels** (there is a direct correlation between blood pressure and cholesterol levels - high cholesterol levels may cause high blood pressure)\n",
    "- **Smoking and number of years smoking**\n",
    "- **Physical inactivity and age**\n",
    "- **BMI**"
   ]
  },
  {
   "cell_type": "markdown",
   "metadata": {},
   "source": [
    "#### Transfering the values for gender\n",
    "Currently, the data for gender shows that the value 1 is for female and 2 is for male. Instead, the code below will change it so that -1 is male and 1 is female.  "
   ]
  },
  {
   "cell_type": "code",
   "execution_count": null,
   "metadata": {},
   "outputs": [],
   "source": [
    "# Code change values for female to be 1 and male to be -1\n"
   ]
  },
  {
   "cell_type": "markdown",
   "metadata": {},
   "source": [
    "#### Calculating Age\n",
    "Currently the format of age in the data set is the individual's age in days rather than years. The code below will convert the age into number of years. "
   ]
  },
  {
   "cell_type": "code",
   "execution_count": null,
   "metadata": {},
   "outputs": [],
   "source": [
    "# Changing the age from days to number of years \n",
    "data_frame['age'] = data_frame['age (days)'] / 365.25.round()\n",
    "\n",
    "#print the results \n",
    "print(data_frame.head())"
   ]
  },
  {
   "cell_type": "markdown",
   "metadata": {},
   "source": [
    "#### Combining Features/Feature Interactions\n",
    "__Feature Engineering__ : creating new features that represent the interaction between two or more features\n",
    "\n",
    "- __High Cholesterol and High Blood Pressure__: High indicator of Cardiovascular Disease being one of the biggest contributing factors  \n",
    "\n",
    "- __Glucose and Cholesterol__\n"
   ]
  },
  {
   "cell_type": "code",
   "execution_count": null,
   "metadata": {},
   "outputs": [],
   "source": [
    "# Create a 'Risk' column with Cholesterol and Blood Pressure "
   ]
  }
 ],
 "metadata": {
  "language_info": {
   "name": "python"
  }
 },
 "nbformat": 4,
 "nbformat_minor": 2
}
