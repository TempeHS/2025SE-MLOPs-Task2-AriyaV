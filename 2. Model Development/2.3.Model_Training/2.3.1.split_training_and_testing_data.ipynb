{
 "cells": [
  {
   "cell_type": "markdown",
   "metadata": {},
   "source": [
    "#### Model Training "
   ]
  },
  {
   "cell_type": "markdown",
   "metadata": {},
   "source": [
    "Splitting the dataset into two, the training set will be used for model training and the testing set will be used for model testing "
   ]
  },
  {
   "cell_type": "markdown",
   "metadata": {},
   "source": [
    "#### Load required dependencies "
   ]
  },
  {
   "cell_type": "code",
   "execution_count": null,
   "metadata": {},
   "outputs": [],
   "source": [
    "# Import frameworks\n",
    "import pandas as pd\n",
    "from sklearn.model_selection import train_test_split"
   ]
  },
  {
   "cell_type": "markdown",
   "metadata": {},
   "source": [
    "#### Split into Training and Testing data "
   ]
  },
  {
   "cell_type": "code",
   "execution_count": null,
   "metadata": {},
   "outputs": [],
   "source": [
    "# Create a data frame from the csv file\n",
    "data = pd.read_csv('2.3.1.model_ready_data.csv')\n",
    "\n",
    "# Split the data into training and testing data\n",
    "training_data, testing_data = train_test_split(data, test_size=0.25)\n",
    "\n",
    "# Save the training and testing data to csv files\n",
    "training_data.to_csv('2.3.2.training_data.csv', index=False)\n",
    "testing_data.to_csv('../2.4.Model_Testing_and_Validation/2.4.1.testing_data.csv', index=False)"
   ]
  }
 ],
 "metadata": {
  "language_info": {
   "name": "python"
  }
 },
 "nbformat": 4,
 "nbformat_minor": 2
}
