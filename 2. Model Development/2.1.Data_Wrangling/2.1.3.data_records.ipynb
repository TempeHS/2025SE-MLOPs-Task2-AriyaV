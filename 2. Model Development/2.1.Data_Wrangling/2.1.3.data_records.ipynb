{
 "cells": [
  {
   "cell_type": "markdown",
   "metadata": {},
   "source": [
    "# Data Records \n",
    "When the ML model goes into operation, new data will be used to make predictions. The new data needs to be scaled so in this Jupyter Notebook is used to record the scaling/encoding applied to data wrangling and feature engineering. "
   ]
  },
  {
   "cell_type": "markdown",
   "metadata": {},
   "source": [
    "| Data | Min/Max | Scale Min/Max |\n",
    "|------|---------|---------------|\n",
    "| Weight| 40/107 | 38/109  |\n",
    "| Height|  143/186   |   140/185  |\n"
   ]
  },
  {
   "cell_type": "markdown",
   "metadata": {},
   "source": [
    "### Encoded \n",
    "\n",
    "| Data | Unencoded | Encoded |\n",
    "|------|-----------|---------|\n",
    "|Gender|1 (female)/2 (male)|   1/-1 |"
   ]
  },
  {
   "cell_type": "markdown",
   "metadata": {},
   "source": [
    "### Engineered Features \n",
    "\n",
    "|Data| Engineering |\n",
    "|----|-------------|\n",
    "| BMI   |  `'data_frame['BMI'] = data_frame['weight'] / (data_frame['height'] / 100) ** `\n",
    "|"
   ]
  }
 ],
 "metadata": {
  "kernelspec": {
   "display_name": "Python 3",
   "language": "python",
   "name": "python3"
  },
  "language_info": {
   "codemirror_mode": {
    "name": "ipython",
    "version": 3
   },
   "file_extension": ".py",
   "mimetype": "text/x-python",
   "name": "python",
   "nbconvert_exporter": "python",
   "pygments_lexer": "ipython3",
   "version": "3.12.1"
  }
 },
 "nbformat": 4,
 "nbformat_minor": 2
}
