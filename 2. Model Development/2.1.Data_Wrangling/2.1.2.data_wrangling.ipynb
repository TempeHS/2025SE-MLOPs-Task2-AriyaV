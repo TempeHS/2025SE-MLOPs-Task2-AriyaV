{
 "cells": [
  {
   "cell_type": "markdown",
   "metadata": {},
   "source": [
    "## Data Wrangling \n",
    "\n",
    "Data Wrangling using Pandas for data analysis and manipulation. "
   ]
  },
  {
   "cell_type": "markdown",
   "metadata": {},
   "source": [
    "#### Required Dependencies "
   ]
  },
  {
   "cell_type": "code",
   "execution_count": 22,
   "metadata": {},
   "outputs": [],
   "source": [
    "# Import frameworks\n",
    "import pandas as pd\n",
    "from sklearn.preprocessing import MinMaxScaler"
   ]
  },
  {
   "cell_type": "markdown",
   "metadata": {},
   "source": [
    "#### Store data as Local Variable \n",
    "\n",
    "Using `data_frame` (Pandas Object) to structure tabular data into an appropriate format. It laods the complete data in memory to be ready for preprocessing. "
   ]
  },
  {
   "cell_type": "code",
   "execution_count": 23,
   "metadata": {},
   "outputs": [],
   "source": [
    "data_frame = pd.read_csv(\"2.1.2.cardiovascular_disease_dataset.csv\")"
   ]
  },
  {
   "cell_type": "markdown",
   "metadata": {},
   "source": [
    "#### Null Values \n",
    "\n",
    "Deals with null values using `isnull().sum()` method to return all null values in any column. "
   ]
  },
  {
   "cell_type": "code",
   "execution_count": 24,
   "metadata": {},
   "outputs": [
    {
     "data": {
      "text/plain": [
       "id             0\n",
       "age            0\n",
       "gender         0\n",
       "height         0\n",
       "weight         0\n",
       "ap_hi          0\n",
       "ap_lo          0\n",
       "cholesterol    0\n",
       "gluc           0\n",
       "smoke          0\n",
       "alco           0\n",
       "active         0\n",
       "cardio         0\n",
       "dtype: int64"
      ]
     },
     "execution_count": 24,
     "metadata": {},
     "output_type": "execute_result"
    }
   ],
   "source": [
    "data_frame.isnull().sum()"
   ]
  },
  {
   "cell_type": "markdown",
   "metadata": {},
   "source": [
    "#### Remove Duplicates \n",
    "The presence of duplicates can effect the ML model by reducing data diversity and representativeness, potentially leading to overfitting or biased models. \n",
    "\n",
    "Using `duplicated().sum()` method returns the count of duplicate rows in data frame."
   ]
  },
  {
   "cell_type": "code",
   "execution_count": 25,
   "metadata": {},
   "outputs": [
    {
     "data": {
      "text/plain": [
       "np.int64(0)"
      ]
     },
     "execution_count": 25,
     "metadata": {},
     "output_type": "execute_result"
    }
   ],
   "source": [
    "data_frame.duplicated().sum()"
   ]
  },
  {
   "cell_type": "markdown",
   "metadata": {},
   "source": [
    "The `drop_duplicates()` method stores the data back in data_frame with duplicates removed. "
   ]
  },
  {
   "cell_type": "code",
   "execution_count": 26,
   "metadata": {},
   "outputs": [
    {
     "data": {
      "text/plain": [
       "np.int64(0)"
      ]
     },
     "execution_count": 26,
     "metadata": {},
     "output_type": "execute_result"
    }
   ],
   "source": [
    "data_frame = data_frame.drop_duplicates()\n",
    "data_frame.duplicated().sum()"
   ]
  },
  {
   "cell_type": "markdown",
   "metadata": {},
   "source": [
    "#### Remove Outliers\n",
    "The removal of outliers is neccessary as it can skew analysis on numerical columns. The 25th and 75th quartile on numerical data is used to get the inter-quartile range below, allowing the estimation to an acceptable range and values outside the range can be filtered out. "
   ]
  },
  {
   "cell_type": "code",
   "execution_count": 37,
   "metadata": {},
   "outputs": [
    {
     "name": "stdout",
     "output_type": "stream",
     "text": [
      "count    64033.000000\n",
      "mean        74.209633\n",
      "std         14.045185\n",
      "min         11.000000\n",
      "25%         65.000000\n",
      "50%         72.000000\n",
      "75%         82.000000\n",
      "max        200.000000\n",
      "Name: weight, dtype: float64\n",
      "Outliers are weights above 107.5 or below 39.5\n"
     ]
    }
   ],
   "source": [
    "# The column title (### - placeholder) should be changed according to the variable\n",
    "\n",
    "print(data_frame['weight'].describe())\n",
    "Q1 = data_frame['weight'].quantile(0.25)\n",
    "Q3 = data_frame['weight'].quantile(0.75)\n",
    "IQR = Q3 - Q1\n",
    "print(f'Outliers are weights above {Q3 + IQR * 1.5} or below {Q1 - IQR * 1.5}')\n"
   ]
  },
  {
   "cell_type": "code",
   "execution_count": 38,
   "metadata": {},
   "outputs": [
    {
     "name": "stdout",
     "output_type": "stream",
     "text": [
      "count    62505.000000\n",
      "mean        73.180776\n",
      "std         12.272097\n",
      "min         40.000000\n",
      "25%         65.000000\n",
      "50%         72.000000\n",
      "75%         81.000000\n",
      "max        107.000000\n",
      "Name: weight, dtype: float64\n"
     ]
    }
   ],
   "source": [
    "# Filter to an acceptable range \n",
    "data_frame = data_frame[(data_frame['weight'] >= Q1 - 1.5 * IQR) & (data_frame['weight'] <= Q3 + 1.5 * IQR)]\n",
    "print(data_frame['weight'].describe())"
   ]
  },
  {
   "cell_type": "markdown",
   "metadata": {},
   "source": [
    "#### Scaling Features to Common Range\n",
    "Scaling of features allows machine learning algorithms to easily find the optimal solution as the different scales of features would no longer influence them. "
   ]
  },
  {
   "cell_type": "code",
   "execution_count": 39,
   "metadata": {},
   "outputs": [
    {
     "data": {
      "application/vnd.microsoft.datawrangler.viewer.v0+json": {
       "columns": [
        {
         "name": "index",
         "rawType": "object",
         "type": "string"
        },
        {
         "name": "id",
         "rawType": "float64",
         "type": "float"
        },
        {
         "name": "age",
         "rawType": "float64",
         "type": "float"
        },
        {
         "name": "gender",
         "rawType": "float64",
         "type": "float"
        },
        {
         "name": "height",
         "rawType": "float64",
         "type": "float"
        },
        {
         "name": "weight",
         "rawType": "float64",
         "type": "float"
        },
        {
         "name": "ap_hi",
         "rawType": "float64",
         "type": "float"
        },
        {
         "name": "ap_lo",
         "rawType": "float64",
         "type": "float"
        },
        {
         "name": "cholesterol",
         "rawType": "float64",
         "type": "float"
        },
        {
         "name": "gluc",
         "rawType": "float64",
         "type": "float"
        },
        {
         "name": "smoke",
         "rawType": "float64",
         "type": "float"
        },
        {
         "name": "alco",
         "rawType": "float64",
         "type": "float"
        },
        {
         "name": "active",
         "rawType": "float64",
         "type": "float"
        },
        {
         "name": "cardio",
         "rawType": "float64",
         "type": "float"
        }
       ],
       "conversionMethod": "pd.DataFrame",
       "ref": "b8accc2b-4ca5-4aa4-9567-5a1e2128b6b1",
       "rows": [
        [
         "count",
         "62505.0",
         "62505.0",
         "62505.0",
         "62505.0",
         "62505.0",
         "62505.0",
         "62505.0",
         "62505.0",
         "62505.0",
         "62505.0",
         "62505.0",
         "62505.0",
         "62505.0"
        ],
        [
         "mean",
         "49941.600335973126",
         "19493.33790896728",
         "1.3485641148708103",
         "0.5084613230941525",
         "0.4955038819429657",
         "0.45737940964722823",
         "0.43775342417051083",
         "1.3576993840492761",
         "1.2206383489320853",
         "0.0863450923926086",
         "0.05217182625389969",
         "0.8043196544276457",
         "0.49388048956083513"
        ],
        [
         "std",
         "28864.503663829582",
         "2458.7502177276715",
         "0.47651947026055513",
         "0.15690342825826734",
         "0.1728464318360204",
         "0.17011707402302437",
         "0.17051919213696543",
         "0.6751916307120348",
         "0.5675898222773512",
         "0.2808752028311173",
         "0.22237517385586883",
         "0.3967266892971136",
         "0.4999665496179372"
        ],
        [
         "min",
         "0.0",
         "10859.0",
         "1.0",
         "0.0625",
         "0.028169014084507043",
         "0.023809523809523808",
         "0.06666666666666667",
         "1.0",
         "1.0",
         "0.0",
         "0.0",
         "0.0",
         "0.0"
        ],
        [
         "25%",
         "24876.0",
         "17724.0",
         "1.0",
         "0.3958333333333333",
         "0.38028169014084506",
         "0.38095238095238093",
         "0.4",
         "1.0",
         "1.0",
         "0.0",
         "0.0",
         "1.0",
         "0.0"
        ],
        [
         "50%",
         "49980.0",
         "19718.0",
         "1.0",
         "0.5208333333333334",
         "0.4788732394366197",
         "0.38095238095238093",
         "0.4",
         "1.0",
         "1.0",
         "0.0",
         "0.0",
         "1.0",
         "0.0"
        ],
        [
         "75%",
         "74849.0",
         "21341.0",
         "2.0",
         "0.625",
         "0.6056338028169014",
         "0.6190476190476191",
         "0.6222222222222222",
         "1.0",
         "1.0",
         "0.0",
         "0.0",
         "1.0",
         "1.0"
        ],
        [
         "max",
         "99999.0",
         "23713.0",
         "2.0",
         "0.9583333333333334",
         "0.971830985915493",
         "0.9761904761904762",
         "0.9555555555555556",
         "3.0",
         "3.0",
         "1.0",
         "1.0",
         "1.0",
         "1.0"
        ]
       ],
       "shape": {
        "columns": 13,
        "rows": 8
       }
      },
      "text/html": [
       "<div>\n",
       "<style scoped>\n",
       "    .dataframe tbody tr th:only-of-type {\n",
       "        vertical-align: middle;\n",
       "    }\n",
       "\n",
       "    .dataframe tbody tr th {\n",
       "        vertical-align: top;\n",
       "    }\n",
       "\n",
       "    .dataframe thead th {\n",
       "        text-align: right;\n",
       "    }\n",
       "</style>\n",
       "<table border=\"1\" class=\"dataframe\">\n",
       "  <thead>\n",
       "    <tr style=\"text-align: right;\">\n",
       "      <th></th>\n",
       "      <th>id</th>\n",
       "      <th>age</th>\n",
       "      <th>gender</th>\n",
       "      <th>height</th>\n",
       "      <th>weight</th>\n",
       "      <th>ap_hi</th>\n",
       "      <th>ap_lo</th>\n",
       "      <th>cholesterol</th>\n",
       "      <th>gluc</th>\n",
       "      <th>smoke</th>\n",
       "      <th>alco</th>\n",
       "      <th>active</th>\n",
       "      <th>cardio</th>\n",
       "    </tr>\n",
       "  </thead>\n",
       "  <tbody>\n",
       "    <tr>\n",
       "      <th>count</th>\n",
       "      <td>62505.000000</td>\n",
       "      <td>62505.000000</td>\n",
       "      <td>62505.000000</td>\n",
       "      <td>62505.000000</td>\n",
       "      <td>62505.000000</td>\n",
       "      <td>62505.000000</td>\n",
       "      <td>62505.000000</td>\n",
       "      <td>62505.000000</td>\n",
       "      <td>62505.000000</td>\n",
       "      <td>62505.000000</td>\n",
       "      <td>62505.000000</td>\n",
       "      <td>62505.000000</td>\n",
       "      <td>62505.000000</td>\n",
       "    </tr>\n",
       "    <tr>\n",
       "      <th>mean</th>\n",
       "      <td>49941.600336</td>\n",
       "      <td>19493.337909</td>\n",
       "      <td>1.348564</td>\n",
       "      <td>0.508461</td>\n",
       "      <td>0.495504</td>\n",
       "      <td>0.457379</td>\n",
       "      <td>0.437753</td>\n",
       "      <td>1.357699</td>\n",
       "      <td>1.220638</td>\n",
       "      <td>0.086345</td>\n",
       "      <td>0.052172</td>\n",
       "      <td>0.804320</td>\n",
       "      <td>0.493880</td>\n",
       "    </tr>\n",
       "    <tr>\n",
       "      <th>std</th>\n",
       "      <td>28864.503664</td>\n",
       "      <td>2458.750218</td>\n",
       "      <td>0.476519</td>\n",
       "      <td>0.156903</td>\n",
       "      <td>0.172846</td>\n",
       "      <td>0.170117</td>\n",
       "      <td>0.170519</td>\n",
       "      <td>0.675192</td>\n",
       "      <td>0.567590</td>\n",
       "      <td>0.280875</td>\n",
       "      <td>0.222375</td>\n",
       "      <td>0.396727</td>\n",
       "      <td>0.499967</td>\n",
       "    </tr>\n",
       "    <tr>\n",
       "      <th>min</th>\n",
       "      <td>0.000000</td>\n",
       "      <td>10859.000000</td>\n",
       "      <td>1.000000</td>\n",
       "      <td>0.062500</td>\n",
       "      <td>0.028169</td>\n",
       "      <td>0.023810</td>\n",
       "      <td>0.066667</td>\n",
       "      <td>1.000000</td>\n",
       "      <td>1.000000</td>\n",
       "      <td>0.000000</td>\n",
       "      <td>0.000000</td>\n",
       "      <td>0.000000</td>\n",
       "      <td>0.000000</td>\n",
       "    </tr>\n",
       "    <tr>\n",
       "      <th>25%</th>\n",
       "      <td>24876.000000</td>\n",
       "      <td>17724.000000</td>\n",
       "      <td>1.000000</td>\n",
       "      <td>0.395833</td>\n",
       "      <td>0.380282</td>\n",
       "      <td>0.380952</td>\n",
       "      <td>0.400000</td>\n",
       "      <td>1.000000</td>\n",
       "      <td>1.000000</td>\n",
       "      <td>0.000000</td>\n",
       "      <td>0.000000</td>\n",
       "      <td>1.000000</td>\n",
       "      <td>0.000000</td>\n",
       "    </tr>\n",
       "    <tr>\n",
       "      <th>50%</th>\n",
       "      <td>49980.000000</td>\n",
       "      <td>19718.000000</td>\n",
       "      <td>1.000000</td>\n",
       "      <td>0.520833</td>\n",
       "      <td>0.478873</td>\n",
       "      <td>0.380952</td>\n",
       "      <td>0.400000</td>\n",
       "      <td>1.000000</td>\n",
       "      <td>1.000000</td>\n",
       "      <td>0.000000</td>\n",
       "      <td>0.000000</td>\n",
       "      <td>1.000000</td>\n",
       "      <td>0.000000</td>\n",
       "    </tr>\n",
       "    <tr>\n",
       "      <th>75%</th>\n",
       "      <td>74849.000000</td>\n",
       "      <td>21341.000000</td>\n",
       "      <td>2.000000</td>\n",
       "      <td>0.625000</td>\n",
       "      <td>0.605634</td>\n",
       "      <td>0.619048</td>\n",
       "      <td>0.622222</td>\n",
       "      <td>1.000000</td>\n",
       "      <td>1.000000</td>\n",
       "      <td>0.000000</td>\n",
       "      <td>0.000000</td>\n",
       "      <td>1.000000</td>\n",
       "      <td>1.000000</td>\n",
       "    </tr>\n",
       "    <tr>\n",
       "      <th>max</th>\n",
       "      <td>99999.000000</td>\n",
       "      <td>23713.000000</td>\n",
       "      <td>2.000000</td>\n",
       "      <td>0.958333</td>\n",
       "      <td>0.971831</td>\n",
       "      <td>0.976190</td>\n",
       "      <td>0.955556</td>\n",
       "      <td>3.000000</td>\n",
       "      <td>3.000000</td>\n",
       "      <td>1.000000</td>\n",
       "      <td>1.000000</td>\n",
       "      <td>1.000000</td>\n",
       "      <td>1.000000</td>\n",
       "    </tr>\n",
       "  </tbody>\n",
       "</table>\n",
       "</div>"
      ],
      "text/plain": [
       "                 id           age        gender        height        weight  \\\n",
       "count  62505.000000  62505.000000  62505.000000  62505.000000  62505.000000   \n",
       "mean   49941.600336  19493.337909      1.348564      0.508461      0.495504   \n",
       "std    28864.503664   2458.750218      0.476519      0.156903      0.172846   \n",
       "min        0.000000  10859.000000      1.000000      0.062500      0.028169   \n",
       "25%    24876.000000  17724.000000      1.000000      0.395833      0.380282   \n",
       "50%    49980.000000  19718.000000      1.000000      0.520833      0.478873   \n",
       "75%    74849.000000  21341.000000      2.000000      0.625000      0.605634   \n",
       "max    99999.000000  23713.000000      2.000000      0.958333      0.971831   \n",
       "\n",
       "              ap_hi         ap_lo   cholesterol          gluc         smoke  \\\n",
       "count  62505.000000  62505.000000  62505.000000  62505.000000  62505.000000   \n",
       "mean       0.457379      0.437753      1.357699      1.220638      0.086345   \n",
       "std        0.170117      0.170519      0.675192      0.567590      0.280875   \n",
       "min        0.023810      0.066667      1.000000      1.000000      0.000000   \n",
       "25%        0.380952      0.400000      1.000000      1.000000      0.000000   \n",
       "50%        0.380952      0.400000      1.000000      1.000000      0.000000   \n",
       "75%        0.619048      0.622222      1.000000      1.000000      0.000000   \n",
       "max        0.976190      0.955556      3.000000      3.000000      1.000000   \n",
       "\n",
       "               alco        active        cardio  \n",
       "count  62505.000000  62505.000000  62505.000000  \n",
       "mean       0.052172      0.804320      0.493880  \n",
       "std        0.222375      0.396727      0.499967  \n",
       "min        0.000000      0.000000      0.000000  \n",
       "25%        0.000000      1.000000      0.000000  \n",
       "50%        0.000000      1.000000      0.000000  \n",
       "75%        0.000000      1.000000      1.000000  \n",
       "max        1.000000      1.000000      1.000000  "
      ]
     },
     "execution_count": 39,
     "metadata": {},
     "output_type": "execute_result"
    }
   ],
   "source": [
    "# Change the scale feature accordingly \n",
    "scale_feature = 'weight'\n",
    "\n",
    "#the minimum value with space for outliers\n",
    "MIN_value = 38\n",
    "\n",
    "#the maximum value with space for outliers\n",
    "MAX_value = 109\n",
    "\n",
    "#scale features\n",
    "data_frame[scale_feature] = [(X - MIN_value) / (MAX_value - MIN_value) for X in data_frame[scale_feature]]\n",
    "\n",
    "data_frame.describe()"
   ]
  },
  {
   "cell_type": "markdown",
   "metadata": {},
   "source": [
    "#### Save Wrangled Data to CSV"
   ]
  },
  {
   "cell_type": "code",
   "execution_count": 40,
   "metadata": {},
   "outputs": [],
   "source": [
    "data_frame.to_csv('../2.2.Feature_Engineering/2.2.1.wrangled_data.csv', index=False)"
   ]
  }
 ],
 "metadata": {
  "kernelspec": {
   "display_name": "Python 3",
   "language": "python",
   "name": "python3"
  },
  "language_info": {
   "codemirror_mode": {
    "name": "ipython",
    "version": 3
   },
   "file_extension": ".py",
   "mimetype": "text/x-python",
   "name": "python",
   "nbconvert_exporter": "python",
   "pygments_lexer": "ipython3",
   "version": "3.12.1"
  }
 },
 "nbformat": 4,
 "nbformat_minor": 2
}
